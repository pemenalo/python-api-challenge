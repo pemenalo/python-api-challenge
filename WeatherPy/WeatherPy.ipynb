{
 "cells": [
  {
   "cell_type": "markdown",
   "metadata": {},
   "source": [
    "# WeatherPy\n",
    "----\n",
    "\n",
    "#### Note\n",
    "* Instructions have been included for each segment. You do not have to follow them exactly, but they are included to help you think through the steps."
   ]
  },
  {
   "cell_type": "code",
   "execution_count": 1,
   "metadata": {
    "scrolled": true
   },
   "outputs": [],
   "source": [
    "# Dependencies and Setup\n",
    "import matplotlib.pyplot as plt\n",
    "import pandas as pd\n",
    "import numpy as np\n",
    "import requests\n",
    "import time\n",
    "from scipy.stats import linregress\n",
    "\n",
    "# Import API key\n",
    "from api_keys import weather_api_key\n",
    "\n",
    "# Incorporated citipy to determine city based on latitude and longitude\n",
    "from citipy import citipy\n",
    "\n",
    "HTTP_STATUS_OK = 200\n",
    "HTTP_STATUS_NOT_FOUND = 401\n",
    "\n",
    "# Output File (CSV)\n",
    "output_data_file = \"output_data/cities.csv\"\n",
    "\n",
    "BASE_URL = f\"http://api.openweathermap.org/data/2.5/weather?appid={weather_api_key}\"\n",
    "\n",
    "# Range of latitudes and longitudes\n",
    "lat_range = (-90, 90)\n",
    "lng_range = (-180, 180)"
   ]
  },
  {
   "cell_type": "markdown",
   "metadata": {},
   "source": [
    "## Generate Cities List"
   ]
  },
  {
   "cell_type": "code",
   "execution_count": 2,
   "metadata": {},
   "outputs": [
    {
     "data": {
      "text/plain": [
       "627"
      ]
     },
     "execution_count": 2,
     "metadata": {},
     "output_type": "execute_result"
    }
   ],
   "source": [
    "# List for holding lat_lngs and cities\n",
    "lat_lngs = []\n",
    "cities = []\n",
    "\n",
    "# Create a set of random lat and lng combinations\n",
    "lats = np.random.uniform(lat_range[0], lat_range[1], size=1500)\n",
    "lngs = np.random.uniform(lng_range[0], lng_range[1], size=1500)\n",
    "lat_lngs = zip(lats, lngs)\n",
    "\n",
    "# Identify nearest city for each lat, lng combination\n",
    "for lat_lng in lat_lngs:\n",
    "    city = citipy.nearest_city(lat_lng[0], lat_lng[1]).city_name\n",
    "    \n",
    "    # If the city is unique, then add it to a our cities list\n",
    "    if city not in cities:\n",
    "        cities.append(city)\n",
    "\n",
    "# Print the city count to confirm sufficient count\n",
    "len(cities)\n",
    "\n",
    "# print(cities)"
   ]
  },
  {
   "cell_type": "markdown",
   "metadata": {},
   "source": [
    "### Perform API Calls\n",
    "* Perform a weather check on each city using a series of successive API calls.\n",
    "* Include a print log of each city as it'sbeing processed (with the city number and city name).\n"
   ]
  },
  {
   "cell_type": "code",
   "execution_count": 10,
   "metadata": {
    "scrolled": true
   },
   "outputs": [
    {
     "name": "stdout",
     "output_type": "stream",
     "text": [
      "city  1 | kapaa\n",
      "city  2 | pisco\n",
      "city  3 | tuktoyaktuk\n",
      "city  4 | grand gaube\n",
      "city  5 | atuona\n",
      "city  6 | leningradskiy\n",
      "The city of meyungs Not Found\n",
      "city  7 | touros\n",
      "city  8 | cabo san lucas\n",
      "city  9 | dikson\n",
      "city  10 | geraldton\n",
      "city  11 | puerto ayora\n",
      "The city of sentyabrskiy Not Found\n",
      "city  12 | mataura\n",
      "city  13 | east london\n",
      "The city of halalo Not Found\n",
      "city  14 | qaanaaq\n",
      "city  15 | kodiak\n",
      "city  16 | upernavik\n",
      "city  17 | saint anthony\n",
      "city  18 | cherskiy\n",
      "city  19 | ust-nera\n",
      "city  20 | nichinan\n",
      "city  21 | khatanga\n",
      "city  22 | molochnoye\n",
      "city  23 | buin\n",
      "city  24 | bluff\n",
      "city  25 | tilichiki\n",
      "city  26 | kavieng\n",
      "city  27 | cidreira\n",
      "city  28 | algodones\n",
      "city  29 | jeremie\n",
      "city  30 | port alfred\n",
      "city  31 | labuhan\n",
      "city  32 | busselton\n",
      "city  33 | albany\n",
      "city  34 | rikitea\n",
      "The city of illoqqortoormiut Not Found\n",
      "The city of opobo Not Found\n",
      "city  35 | hamilton\n",
      "city  36 | college\n",
      "city  37 | bathsheba\n",
      "city  38 | hilo\n",
      "city  39 | yauco\n",
      "city  40 | podosinovets\n",
      "city  41 | vaini\n",
      "city  42 | punta arenas\n",
      "city  43 | iqaluit\n",
      "city  44 | port hardy\n",
      "city  45 | spornoye\n",
      "city  46 | ushuaia\n",
      "city  47 | diamantino\n",
      "The city of grand river south east Not Found\n",
      "city  48 | hobart\n",
      "The city of urdzhar Not Found\n",
      "The city of taolanaro Not Found\n",
      "city  49 | nikolskoye\n",
      "city  50 | abha\n",
      "city  51 | jamestown\n",
      "city  52 | padang\n",
      "city  53 | souillac\n",
      "city  54 | ouallam\n",
      "city  55 | ribeira grande\n",
      "city  56 | tenenkou\n",
      "city  57 | coahuayana\n",
      "city  58 | nirasaki\n",
      "city  59 | lumut\n",
      "city  60 | new norfolk\n",
      "city  61 | carnarvon\n",
      "city  62 | tiksi\n",
      "city  63 | severo-kurilsk\n",
      "city  64 | guiratinga\n",
      "city  65 | thompson\n",
      "city  66 | beloha\n",
      "city  67 | bengkulu\n",
      "city  68 | bilibino\n",
      "city  69 | belaya gora\n",
      "city  70 | saskylakh\n",
      "city  71 | aitape\n",
      "The city of formoso do araguaia Not Found\n",
      "city  72 | ngunguru\n",
      "city  73 | avarua\n",
      "city  74 | tuatapere\n",
      "city  75 | te anau\n",
      "city  76 | birao\n",
      "city  77 | chokurdakh\n",
      "city  78 | waitara\n",
      "city  79 | novi knezevac\n",
      "city  80 | adre\n",
      "city  81 | san patricio\n",
      "city  82 | lasa\n",
      "city  83 | agua verde\n",
      "city  84 | constitucion\n",
      "The city of mys shmidta Not Found\n",
      "city  85 | xining\n",
      "city  86 | georgetown\n",
      "The city of mrirt Not Found\n",
      "city  87 | fortuna\n",
      "city  88 | maumere\n",
      "city  89 | riviere-au-renard\n",
      "city  90 | outjo\n",
      "city  91 | chiredzi\n",
      "city  92 | truth or consequences\n",
      "city  93 | mogadishu\n",
      "city  94 | jyvaskyla\n",
      "city  95 | lida\n",
      "city  96 | ambilobe\n",
      "city  97 | aguililla\n",
      "city  98 | victoria\n",
      "city  99 | beringovskiy\n",
      "city  100 | damghan\n",
      "The city of amderma Not Found\n",
      "city  101 | lakatoro\n",
      "city  102 | mujiayingzi\n",
      "city  103 | bredasdorp\n",
      "city  104 | cape town\n",
      "city  105 | bethel\n",
      "city  106 | tangwani\n",
      "city  107 | huarmey\n",
      "city  108 | del rio\n",
      "city  109 | puerto rondon\n",
      "city  110 | alexandria\n",
      "city  111 | saldanha\n",
      "city  112 | port elizabeth\n",
      "city  113 | nhulunbuy\n",
      "The city of kuche Not Found\n",
      "city  114 | ramshir\n",
      "city  115 | panacan\n",
      "city  116 | cotonou\n",
      "city  117 | vrangel\n",
      "city  118 | mount isa\n",
      "city  119 | ahuimanu\n",
      "city  120 | praia da vitoria\n",
      "city  121 | flinders\n",
      "city  122 | gamboula\n",
      "city  123 | lorengau\n",
      "city  124 | arraial do cabo\n",
      "city  125 | erenhot\n",
      "city  126 | fort nelson\n",
      "city  127 | sorong\n",
      "city  128 | camocim\n",
      "city  129 | hermanus\n",
      "city  130 | baillif\n",
      "city  131 | san matias\n",
      "city  132 | port blair\n",
      "city  133 | hithadhoo\n",
      "city  134 | carutapera\n",
      "city  135 | lukovetskiy\n",
      "city  136 | coracora\n",
      "city  137 | vila franca do campo\n",
      "city  138 | tasiilaq\n",
      "city  139 | lompoc\n",
      "city  140 | mar del plata\n",
      "city  141 | champerico\n",
      "city  142 | salalah\n",
      "city  143 | karratha\n",
      "city  144 | eldoret\n",
      "city  145 | san cristobal\n",
      "The city of palabuhanratu Not Found\n",
      "city  146 | nanortalik\n",
      "city  147 | santa quiteria\n",
      "city  148 | kavaratti\n",
      "The city of nizhneyansk Not Found\n",
      "city  149 | faanui\n",
      "city  150 | saint-philippe\n",
      "city  151 | verkhoyansk\n",
      "city  152 | broome\n",
      "city  153 | caravelas\n",
      "city  154 | marshall\n",
      "city  155 | leh\n",
      "city  156 | isangel\n",
      "city  157 | sitka\n",
      "city  158 | sayat\n",
      "city  159 | jambi\n",
      "city  160 | vila velha\n",
      "city  161 | kabalo\n",
      "city  162 | middle island\n",
      "city  163 | xiaoweizhai\n",
      "city  164 | saint-pierre\n",
      "city  165 | khandbari\n",
      "city  166 | nome\n",
      "The city of vaitupu Not Found\n",
      "city  167 | kaitangata\n",
      "city  168 | nikitinskiy\n",
      "city  169 | alofi\n",
      "The city of kamenskoye Not Found\n",
      "The city of barentsburg Not Found\n",
      "city  170 | hearst\n",
      "The city of karaul Not Found\n",
      "city  171 | vitim\n",
      "city  172 | chicama\n",
      "city  173 | morondava\n",
      "city  174 | karaton\n",
      "city  175 | berlevag\n",
      "city  176 | torbay\n",
      "The city of satitoa Not Found\n",
      "city  177 | kloulklubed\n",
      "city  178 | katsuura\n",
      "city  179 | tura\n",
      "city  180 | hovd\n",
      "city  181 | havelock\n",
      "city  182 | najran\n",
      "city  183 | sinnamary\n",
      "city  184 | krutinka\n",
      "city  185 | muros\n",
      "city  186 | bambous virieux\n",
      "city  187 | merauke\n",
      "city  188 | boa vista\n",
      "city  189 | qujing\n",
      "city  190 | leeton\n",
      "city  191 | kalakamati\n",
      "city  192 | krasnoselkup\n",
      "city  193 | naze\n",
      "city  194 | seymchan\n",
      "city  195 | dunedin\n",
      "city  196 | pacific grove\n",
      "city  197 | hofn\n",
      "city  198 | pangnirtung\n",
      "city  199 | hay river\n",
      "city  200 | provideniya\n",
      "city  201 | korla\n",
      "city  202 | tottori\n",
      "city  203 | grand island\n",
      "city  204 | hambantota\n",
      "city  205 | hammerfest\n",
      "city  206 | miles city\n",
      "city  207 | avera\n",
      "city  208 | mount gambier\n",
      "city  209 | yellowknife\n",
      "city  210 | barrow\n",
      "city  211 | anadyr\n",
      "The city of belushya guba Not Found\n",
      "city  212 | lebu\n",
      "city  213 | levelland\n",
      "The city of temaraia Not Found\n",
      "city  214 | port lincoln\n",
      "The city of chagda Not Found\n",
      "city  215 | ancud\n",
      "city  216 | san jose\n",
      "The city of tsihombe Not Found\n",
      "city  217 | mosquera\n",
      "city  218 | kropotkin\n",
      "city  219 | baturaja\n",
      "city  220 | olafsvik\n",
      "The city of rungata Not Found\n",
      "city  221 | lavrentiya\n",
      "city  222 | kinsale\n",
      "city  223 | mayumba\n",
      "city  224 | catuday\n",
      "city  225 | voi\n",
      "city  226 | lluta\n",
      "city  227 | kysyl-syr\n",
      "city  228 | telde\n",
      "city  229 | halifax\n",
      "city  230 | manokwari\n",
      "city  231 | sao sebastiao\n",
      "city  232 | deniliquin\n",
      "city  233 | srednekolymsk\n",
      "city  234 | galesong\n",
      "city  235 | manbij\n",
      "city  236 | dingle\n",
      "city  237 | roma\n",
      "city  238 | teya\n",
      "city  239 | esso\n",
      "The city of samusu Not Found\n",
      "city  240 | valdivia\n",
      "city  241 | dunkirk\n",
      "city  242 | ust-koksa\n",
      "city  243 | arlit\n",
      "city  244 | tevaitoa\n",
      "The city of fort saint john Not Found\n",
      "city  245 | kluang\n",
      "city  246 | san quintin\n",
      "city  247 | dire\n",
      "city  248 | saurimo\n",
      "city  249 | ushtobe\n",
      "city  250 | castro\n",
      "city  251 | llangefni\n",
      "city  252 | santiago del estero\n",
      "The city of samalaeulu Not Found\n",
      "city  253 | grindavik\n",
      "city  254 | qiqihar\n",
      "city  255 | kahului\n",
      "city  256 | palasa\n",
      "city  257 | general delgado\n",
      "city  258 | santa fe do sul\n",
      "city  259 | chuy\n",
      "city  260 | moron\n",
      "The city of saleaula Not Found\n",
      "city  261 | airai\n",
      "city  262 | floro\n",
      "city  263 | trairi\n",
      "city  264 | tailai\n",
      "city  265 | warmbad\n",
      "city  266 | mizdah\n",
      "city  267 | kindersley\n",
      "city  268 | kruisfontein\n",
      "The city of jundubah Not Found\n",
      "city  269 | korba\n",
      "city  270 | chara\n",
      "city  271 | esperance\n",
      "city  272 | sioux lookout\n",
      "city  273 | priiskovyy\n",
      "city  274 | lira\n",
      "city  275 | kampong thum\n",
      "city  276 | careiro da varzea\n",
      "city  277 | yar-sale\n",
      "city  278 | clyde river\n",
      "city  279 | cerkezkoy\n",
      "city  280 | hasaki\n",
      "city  281 | kununurra\n",
      "city  282 | awjilah\n",
      "city  283 | ternate\n",
      "city  284 | tiarei\n",
      "city  285 | talnakh\n",
      "city  286 | luderitz\n",
      "city  287 | mareeba\n",
      "city  288 | campbell river\n",
      "city  289 | kargil\n",
      "city  290 | maralal\n",
      "city  291 | beisfjord\n",
      "city  292 | gainesville\n",
      "city  293 | vieira de leiria\n",
      "city  294 | khani\n",
      "city  295 | las palmas\n",
      "city  296 | havoysund\n",
      "city  297 | shirokiy\n",
      "city  298 | havre-saint-pierre\n",
      "city  299 | pringsewu\n",
      "city  300 | butaritari\n",
      "city  301 | sibolga\n",
      "city  302 | tyukhtet\n",
      "The city of alashtar Not Found\n",
      "city  303 | lata\n",
      "city  304 | terrace\n",
      "city  305 | saint-joseph\n",
      "city  306 | general roca\n",
      "city  307 | fallon\n",
      "city  308 | jingcheng\n",
      "city  309 | ponta do sol\n",
      "city  310 | gao\n",
      "city  311 | yerbogachen\n",
      "city  312 | cortez\n",
      "city  313 | haines junction\n",
      "city  314 | alyangula\n",
      "city  315 | itacare\n",
      "city  316 | the valley\n",
      "city  317 | bria\n",
      "city  318 | sorland\n",
      "city  319 | nouadhibou\n",
      "city  320 | trinidad\n",
      "city  321 | ostrovnoy\n",
      "city  322 | evensk\n",
      "city  323 | juneau\n",
      "city  324 | moctezuma\n",
      "city  325 | jesup\n",
      "city  326 | jinxi\n",
      "city  327 | skibbereen\n",
      "city  328 | lesnoye\n",
      "city  329 | sola\n",
      "city  330 | guarapari\n",
      "city  331 | henties bay\n",
      "city  332 | kailua\n",
      "city  333 | saint george\n",
      "city  334 | bara\n",
      "city  335 | namibe\n",
      "city  336 | itaituba\n",
      "The city of gorno-chuyskiy Not Found\n",
      "city  337 | somerset east\n",
      "city  338 | sandwich\n",
      "city  339 | ust-omchug\n",
      "city  340 | maan\n"
     ]
    },
    {
     "name": "stdout",
     "output_type": "stream",
     "text": [
      "city  341 | matay\n",
      "city  342 | kieta\n",
      "city  343 | coquimbo\n",
      "city  344 | amapa\n",
      "city  345 | ayan\n",
      "city  346 | mackay\n",
      "city  347 | ila\n",
      "city  348 | magan\n",
      "city  349 | yagodnoye\n",
      "city  350 | kohima\n",
      "city  351 | sao filipe\n",
      "city  352 | big bend\n",
      "city  353 | coachella\n",
      "city  354 | maputo\n",
      "city  355 | concordia\n",
      "city  356 | narsaq\n",
      "city  357 | sao joao da barra\n",
      "city  358 | ludvika\n",
      "city  359 | sinegorye\n",
      "city  360 | conceicao do araguaia\n",
      "city  361 | asau\n",
      "city  362 | tayshet\n",
      "city  363 | gudermes\n",
      "city  364 | lamar\n",
      "city  365 | tatvan\n",
      "city  366 | thinadhoo\n",
      "city  367 | axim\n",
      "city  368 | odweyne\n",
      "city  369 | doha\n",
      "city  370 | hella\n",
      "city  371 | porto santo\n",
      "city  372 | dakar\n",
      "city  373 | klaksvik\n",
      "city  374 | swan hill\n",
      "city  375 | oistins\n",
      "city  376 | igunga\n",
      "The city of attawapiskat Not Found\n",
      "city  377 | kheralu\n",
      "city  378 | sainte-anne-des-monts\n",
      "city  379 | inta\n",
      "city  380 | mabini\n",
      "The city of umzimvubu Not Found\n",
      "city  381 | gotsu\n",
      "city  382 | asyut\n",
      "city  383 | henniker\n",
      "city  384 | samdrup jongkhar\n",
      "city  385 | tongren\n",
      "city  386 | oksfjord\n",
      "city  387 | mangan\n",
      "city  388 | waw\n",
      "city  389 | zhoucun\n",
      "city  390 | viedma\n",
      "city  391 | tosham\n",
      "city  392 | alta floresta\n",
      "city  393 | pochutla\n",
      "city  394 | bolkhov\n",
      "The city of barbar Not Found\n",
      "The city of marcona Not Found\n",
      "city  395 | muzaffarpur\n",
      "city  396 | youhao\n",
      "city  397 | dauriya\n",
      "city  398 | manicore\n",
      "city  399 | raudeberg\n",
      "city  400 | orsha\n",
      "city  401 | westport\n",
      "city  402 | katherine\n",
      "city  403 | colares\n",
      "city  404 | mirabad\n",
      "city  405 | sept-iles\n",
      "city  406 | bukachacha\n",
      "city  407 | dong hoi\n",
      "city  408 | turbat\n",
      "city  409 | egvekinot\n",
      "city  410 | adrar\n",
      "city  411 | san jeronimo\n",
      "city  412 | vryburg\n",
      "city  413 | narimanov\n",
      "The city of haibowan Not Found\n",
      "city  414 | le port\n",
      "city  415 | sterling\n",
      "city  416 | yavoriv\n",
      "city  417 | alytus\n",
      "city  418 | hoorn\n",
      "city  419 | czarnkow\n",
      "city  420 | richards bay\n",
      "The city of safwah Not Found\n",
      "city  421 | balakhninskiy\n",
      "city  422 | lagoa\n",
      "city  423 | ilulissat\n",
      "city  424 | kikwit\n",
      "city  425 | san borja\n",
      "city  426 | puerto narino\n",
      "city  427 | ulaangom\n",
      "city  428 | hatillo de loba\n",
      "The city of sorvag Not Found\n",
      "city  429 | istok\n",
      "city  430 | manono\n",
      "city  431 | kabo\n",
      "city  432 | carpinteria\n",
      "city  433 | aksu\n",
      "city  434 | bandarbeyla\n",
      "city  435 | marga\n",
      "city  436 | uruzgan\n",
      "city  437 | norman wells\n",
      "city  438 | cockburn town\n",
      "city  439 | minas novas\n",
      "city  440 | saint-francois\n",
      "city  441 | gazojak\n",
      "city  442 | aneho\n",
      "city  443 | pontal do parana\n",
      "city  444 | walvis bay\n",
      "city  445 | sattahip\n",
      "city  446 | lexington\n",
      "city  447 | faya\n",
      "The city of zolotinka Not Found\n",
      "city  448 | gudalur\n",
      "city  449 | portland\n",
      "city  450 | gunjur\n",
      "city  451 | puerto escondido\n",
      "city  452 | ust-kuyga\n",
      "city  453 | torquay\n",
      "city  454 | teguldet\n",
      "city  455 | muisne\n",
      "city  456 | shache\n",
      "city  457 | bonanza\n",
      "city  458 | mao\n",
      "city  459 | tamandare\n",
      "city  460 | pauini\n",
      "The city of afgoye Not Found\n",
      "The city of inderborskiy Not Found\n",
      "The city of haademeeste Not Found\n",
      "city  461 | almaty\n",
      "city  462 | geilo\n",
      "city  463 | manggar\n",
      "city  464 | newport\n",
      "city  465 | moose factory\n",
      "city  466 | pevek\n",
      "The city of play cu Not Found\n",
      "city  467 | koroni\n",
      "city  468 | marsa matruh\n",
      "city  469 | seoul\n",
      "city  470 | dawlatabad\n",
      "city  471 | asfi\n",
      "city  472 | bonavista\n",
      "city  473 | ambulu\n",
      "city  474 | castelldefels\n",
      "city  475 | bozoum\n",
      "city  476 | atikokan\n",
      "city  477 | antigonish\n",
      "city  478 | rawson\n",
      "city  479 | tabou\n",
      "city  480 | lenger\n",
      "city  481 | galle\n",
      "city  482 | greeneville\n",
      "city  483 | coihaique\n",
      "city  484 | nuuk\n",
      "city  485 | tayu\n",
      "city  486 | bismarck\n",
      "city  487 | suez\n",
      "city  488 | bukama\n",
      "city  489 | andenes\n",
      "city  490 | peddapuram\n",
      "city  491 | alice springs\n",
      "city  492 | pachino\n",
      "city  493 | waingapu\n",
      "city  494 | monte santo\n",
      "city  495 | tarko-sale\n",
      "city  496 | koksovyy\n",
      "city  497 | tyup\n",
      "city  498 | tocopilla\n",
      "city  499 | turukhansk\n",
      "city  500 | poum\n",
      "city  501 | necochea\n",
      "city  502 | bull savanna\n",
      "city  503 | suwannaphum\n",
      "city  504 | porbandar\n",
      "city  505 | polonne\n",
      "city  506 | monte azul\n",
      "city  507 | lyantonde\n",
      "city  508 | katobu\n",
      "city  509 | zamora\n",
      "city  510 | buala\n",
      "city  511 | urengoy\n",
      "city  512 | gidam\n",
      "city  513 | lingao\n",
      "city  514 | maracacume\n",
      "city  515 | brae\n",
      "city  516 | wonosobo\n",
      "city  517 | williams lake\n",
      "city  518 | borogontsy\n",
      "city  519 | sinop\n",
      "city  520 | teknaf\n",
      "city  521 | kedougou\n",
      "city  522 | sturgeon falls\n",
      "city  523 | caceres\n",
      "The city of lolua Not Found\n",
      "city  524 | cap malheureux\n",
      "city  525 | linfen\n",
      "city  526 | port macquarie\n",
      "city  527 | koygorodok\n",
      "city  528 | myitkyina\n",
      "city  529 | mecca\n",
      "city  530 | irtyshskiy\n",
      "city  531 | ashoknagar\n",
      "city  532 | koutiala\n",
      "city  533 | progreso\n",
      "city  534 | caiaponia\n",
      "city  535 | pidhorodne\n",
      "city  536 | lac du bonnet\n",
      "city  537 | jizan\n",
      "The city of grande-riviere Not Found\n",
      "city  538 | tyukalinsk\n",
      "city  539 | goderich\n",
      "city  540 | kulhudhuffushi\n",
      "city  541 | golyshmanovo\n",
      "city  542 | chapais\n",
      "city  543 | tete\n",
      "city  544 | vanimo\n",
      "city  545 | paris\n",
      "The city of geresk Not Found\n",
      "city  546 | visegrad\n",
      "city  547 | vao\n",
      "city  548 | srivardhan\n",
      "city  549 | matagami\n",
      "city  550 | kautokeino\n",
      "city  551 | vargashi\n",
      "city  552 | jiangkou\n",
      "The city of dujuma Not Found\n",
      "city  553 | ambon\n",
      "city  554 | bastrop\n",
      "city  555 | kholtoson\n",
      "city  556 | bubaque\n",
      "city  557 | igarka\n",
      "city  558 | bemidji\n",
      "city  559 | tommot\n",
      "city  560 | beira\n",
      "city  561 | saint-paul\n",
      "city  562 | kyshtovka\n",
      "city  563 | kitui\n",
      "city  564 | aswan\n",
      "city  565 | maceio\n",
      "city  566 | qasigiannguit\n",
      "city  567 | okhotsk\n",
      "city  568 | ballina\n",
      "city  569 | murdochville\n",
      "city  570 | mala\n",
      "city  571 | mahebourg\n",
      "city  572 | cascais\n",
      "city  573 | alice town\n",
      "city  574 | malartic\n",
      "city  575 | coalinga\n",
      "city  576 | vilcun\n",
      "city  577 | kewanee\n",
      "city  578 | zenzeli\n",
      "The city of karakendzha Not Found\n"
     ]
    }
   ],
   "source": [
    "city_name = []\n",
    "country = []\n",
    "lattitude =[]\n",
    "longitude = []\n",
    "date = []\n",
    "temperature = []\n",
    "wind_speed = []\n",
    "cloud_cover = []\n",
    "humidity = []\n",
    "\n",
    "counter = 1\n",
    "\n",
    "for city in cities:  \n",
    "    current_url = f\"{BASE_URL}&q={city}\"\n",
    "    response = requests.get(current_url) \n",
    "    if response.status_code == HTTP_STATUS_OK:\n",
    "        json = response.json()\n",
    "        city_name.append(json[\"name\"])\n",
    "        country.append(json[\"sys\"][\"country\"])\n",
    "        lattitude.append(json[\"coord\"][\"lat\"])\n",
    "        longitude.append(json[\"coord\"][\"lon\"])\n",
    "        date.append(json[\"dt\"])\n",
    "        temperature.append(json[\"main\"][\"temp_max\"])\n",
    "        wind_speed.append(json[\"wind\"][\"speed\"])\n",
    "        cloud_cover.append(json[\"clouds\"][\"all\"])\n",
    "        humidity.append(json[\"main\"][\"humidity\"])\n",
    "\n",
    "        print(f\"city  {counter} | {city}\")        \n",
    "        counter = counter + 1\n",
    "        time.sleep(1.05)\n",
    "    else:\n",
    "        print(f\"The city of {city} Not Found\")"
   ]
  },
  {
   "cell_type": "markdown",
   "metadata": {},
   "source": [
    "### Convert Raw Data to DataFrame\n",
    "* Export the city data into a .csv.\n",
    "* Display the DataFrame"
   ]
  },
  {
   "cell_type": "code",
   "execution_count": 11,
   "metadata": {
    "scrolled": true
   },
   "outputs": [],
   "source": [
    "weather_data = {'City': city_name, 'Country': country, 'Lat': lattitude,\n",
    "                'Long': longitude, 'Date': date, 'Temp': temperature,\n",
    "                'Wind Spd': wind_speed, 'Cloud Cvr': cloud_cover, 'Humid': humidity }\n",
    "weather_data_df = pd.DataFrame(weather_data)"
   ]
  },
  {
   "cell_type": "code",
   "execution_count": 13,
   "metadata": {
    "scrolled": false
   },
   "outputs": [
    {
     "data": {
      "text/html": [
       "<div>\n",
       "<style scoped>\n",
       "    .dataframe tbody tr th:only-of-type {\n",
       "        vertical-align: middle;\n",
       "    }\n",
       "\n",
       "    .dataframe tbody tr th {\n",
       "        vertical-align: top;\n",
       "    }\n",
       "\n",
       "    .dataframe thead th {\n",
       "        text-align: right;\n",
       "    }\n",
       "</style>\n",
       "<table border=\"1\" class=\"dataframe\">\n",
       "  <thead>\n",
       "    <tr style=\"text-align: right;\">\n",
       "      <th></th>\n",
       "      <th>City</th>\n",
       "      <th>Country</th>\n",
       "      <th>Lat</th>\n",
       "      <th>Long</th>\n",
       "      <th>Date</th>\n",
       "      <th>Temp</th>\n",
       "      <th>Wind Spd</th>\n",
       "      <th>Cloud Cvr</th>\n",
       "      <th>Humid</th>\n",
       "    </tr>\n",
       "  </thead>\n",
       "  <tbody>\n",
       "    <tr>\n",
       "      <th>0</th>\n",
       "      <td>Kapaa</td>\n",
       "      <td>US</td>\n",
       "      <td>22.0752</td>\n",
       "      <td>-159.3190</td>\n",
       "      <td>1637637507</td>\n",
       "      <td>300.14</td>\n",
       "      <td>1.34</td>\n",
       "      <td>90</td>\n",
       "      <td>76</td>\n",
       "    </tr>\n",
       "    <tr>\n",
       "      <th>1</th>\n",
       "      <td>Pisco</td>\n",
       "      <td>PE</td>\n",
       "      <td>-13.7000</td>\n",
       "      <td>-76.2167</td>\n",
       "      <td>1637637761</td>\n",
       "      <td>291.49</td>\n",
       "      <td>5.14</td>\n",
       "      <td>90</td>\n",
       "      <td>88</td>\n",
       "    </tr>\n",
       "    <tr>\n",
       "      <th>2</th>\n",
       "      <td>Tuktoyaktuk</td>\n",
       "      <td>CA</td>\n",
       "      <td>69.4541</td>\n",
       "      <td>-133.0374</td>\n",
       "      <td>1637637787</td>\n",
       "      <td>252.15</td>\n",
       "      <td>4.63</td>\n",
       "      <td>40</td>\n",
       "      <td>77</td>\n",
       "    </tr>\n",
       "    <tr>\n",
       "      <th>3</th>\n",
       "      <td>Grand Gaube</td>\n",
       "      <td>MU</td>\n",
       "      <td>-20.0064</td>\n",
       "      <td>57.6608</td>\n",
       "      <td>1637637763</td>\n",
       "      <td>297.80</td>\n",
       "      <td>0.45</td>\n",
       "      <td>1</td>\n",
       "      <td>66</td>\n",
       "    </tr>\n",
       "    <tr>\n",
       "      <th>4</th>\n",
       "      <td>Atuona</td>\n",
       "      <td>PF</td>\n",
       "      <td>-9.8000</td>\n",
       "      <td>-139.0333</td>\n",
       "      <td>1637637765</td>\n",
       "      <td>298.46</td>\n",
       "      <td>3.65</td>\n",
       "      <td>100</td>\n",
       "      <td>76</td>\n",
       "    </tr>\n",
       "    <tr>\n",
       "      <th>...</th>\n",
       "      <td>...</td>\n",
       "      <td>...</td>\n",
       "      <td>...</td>\n",
       "      <td>...</td>\n",
       "      <td>...</td>\n",
       "      <td>...</td>\n",
       "      <td>...</td>\n",
       "      <td>...</td>\n",
       "      <td>...</td>\n",
       "    </tr>\n",
       "    <tr>\n",
       "      <th>573</th>\n",
       "      <td>Malartic</td>\n",
       "      <td>CA</td>\n",
       "      <td>48.1335</td>\n",
       "      <td>-78.1328</td>\n",
       "      <td>1637638702</td>\n",
       "      <td>263.21</td>\n",
       "      <td>3.43</td>\n",
       "      <td>98</td>\n",
       "      <td>91</td>\n",
       "    </tr>\n",
       "    <tr>\n",
       "      <th>574</th>\n",
       "      <td>Coalinga</td>\n",
       "      <td>US</td>\n",
       "      <td>36.1397</td>\n",
       "      <td>-120.3602</td>\n",
       "      <td>1637638870</td>\n",
       "      <td>287.61</td>\n",
       "      <td>0.08</td>\n",
       "      <td>50</td>\n",
       "      <td>34</td>\n",
       "    </tr>\n",
       "    <tr>\n",
       "      <th>575</th>\n",
       "      <td>Vilcún</td>\n",
       "      <td>CL</td>\n",
       "      <td>-38.6500</td>\n",
       "      <td>-72.2333</td>\n",
       "      <td>1637638872</td>\n",
       "      <td>282.56</td>\n",
       "      <td>1.00</td>\n",
       "      <td>0</td>\n",
       "      <td>89</td>\n",
       "    </tr>\n",
       "    <tr>\n",
       "      <th>576</th>\n",
       "      <td>Kewanee</td>\n",
       "      <td>US</td>\n",
       "      <td>41.2456</td>\n",
       "      <td>-89.9248</td>\n",
       "      <td>1637638873</td>\n",
       "      <td>270.78</td>\n",
       "      <td>2.00</td>\n",
       "      <td>7</td>\n",
       "      <td>37</td>\n",
       "    </tr>\n",
       "    <tr>\n",
       "      <th>577</th>\n",
       "      <td>Zenzeli</td>\n",
       "      <td>RU</td>\n",
       "      <td>45.9241</td>\n",
       "      <td>47.0474</td>\n",
       "      <td>1637638874</td>\n",
       "      <td>280.85</td>\n",
       "      <td>4.52</td>\n",
       "      <td>40</td>\n",
       "      <td>80</td>\n",
       "    </tr>\n",
       "  </tbody>\n",
       "</table>\n",
       "<p>578 rows × 9 columns</p>\n",
       "</div>"
      ],
      "text/plain": [
       "            City Country      Lat      Long        Date    Temp  Wind Spd  \\\n",
       "0          Kapaa      US  22.0752 -159.3190  1637637507  300.14      1.34   \n",
       "1          Pisco      PE -13.7000  -76.2167  1637637761  291.49      5.14   \n",
       "2    Tuktoyaktuk      CA  69.4541 -133.0374  1637637787  252.15      4.63   \n",
       "3    Grand Gaube      MU -20.0064   57.6608  1637637763  297.80      0.45   \n",
       "4         Atuona      PF  -9.8000 -139.0333  1637637765  298.46      3.65   \n",
       "..           ...     ...      ...       ...         ...     ...       ...   \n",
       "573     Malartic      CA  48.1335  -78.1328  1637638702  263.21      3.43   \n",
       "574     Coalinga      US  36.1397 -120.3602  1637638870  287.61      0.08   \n",
       "575       Vilcún      CL -38.6500  -72.2333  1637638872  282.56      1.00   \n",
       "576      Kewanee      US  41.2456  -89.9248  1637638873  270.78      2.00   \n",
       "577      Zenzeli      RU  45.9241   47.0474  1637638874  280.85      4.52   \n",
       "\n",
       "     Cloud Cvr  Humid  \n",
       "0           90     76  \n",
       "1           90     88  \n",
       "2           40     77  \n",
       "3            1     66  \n",
       "4          100     76  \n",
       "..         ...    ...  \n",
       "573         98     91  \n",
       "574         50     34  \n",
       "575          0     89  \n",
       "576          7     37  \n",
       "577         40     80  \n",
       "\n",
       "[578 rows x 9 columns]"
      ]
     },
     "execution_count": 13,
     "metadata": {},
     "output_type": "execute_result"
    }
   ],
   "source": [
    "weather_data_df"
   ]
  },
  {
   "cell_type": "code",
   "execution_count": 67,
   "metadata": {},
   "outputs": [
    {
     "data": {
      "text/html": [
       "<div>\n",
       "<style scoped>\n",
       "    .dataframe tbody tr th:only-of-type {\n",
       "        vertical-align: middle;\n",
       "    }\n",
       "\n",
       "    .dataframe tbody tr th {\n",
       "        vertical-align: top;\n",
       "    }\n",
       "\n",
       "    .dataframe thead th {\n",
       "        text-align: right;\n",
       "    }\n",
       "</style>\n",
       "<table border=\"1\" class=\"dataframe\">\n",
       "  <thead>\n",
       "    <tr style=\"text-align: right;\">\n",
       "      <th></th>\n",
       "      <th>City</th>\n",
       "      <th>Country</th>\n",
       "      <th>Lat</th>\n",
       "      <th>Long</th>\n",
       "      <th>Date</th>\n",
       "      <th>Temp</th>\n",
       "      <th>Wind Spd</th>\n",
       "      <th>Cloud Cvr</th>\n",
       "      <th>Humid</th>\n",
       "    </tr>\n",
       "  </thead>\n",
       "  <tbody>\n",
       "    <tr>\n",
       "      <th>0</th>\n",
       "      <td>Kapaa</td>\n",
       "      <td>US</td>\n",
       "      <td>22.0752</td>\n",
       "      <td>-159.3190</td>\n",
       "      <td>1637637507</td>\n",
       "      <td>300.14</td>\n",
       "      <td>1.34</td>\n",
       "      <td>90</td>\n",
       "      <td>76</td>\n",
       "    </tr>\n",
       "    <tr>\n",
       "      <th>1</th>\n",
       "      <td>Pisco</td>\n",
       "      <td>PE</td>\n",
       "      <td>-13.7000</td>\n",
       "      <td>-76.2167</td>\n",
       "      <td>1637637761</td>\n",
       "      <td>291.49</td>\n",
       "      <td>5.14</td>\n",
       "      <td>90</td>\n",
       "      <td>88</td>\n",
       "    </tr>\n",
       "    <tr>\n",
       "      <th>2</th>\n",
       "      <td>Tuktoyaktuk</td>\n",
       "      <td>CA</td>\n",
       "      <td>69.4541</td>\n",
       "      <td>-133.0374</td>\n",
       "      <td>1637637787</td>\n",
       "      <td>252.15</td>\n",
       "      <td>4.63</td>\n",
       "      <td>40</td>\n",
       "      <td>77</td>\n",
       "    </tr>\n",
       "    <tr>\n",
       "      <th>3</th>\n",
       "      <td>Grand Gaube</td>\n",
       "      <td>MU</td>\n",
       "      <td>-20.0064</td>\n",
       "      <td>57.6608</td>\n",
       "      <td>1637637763</td>\n",
       "      <td>297.80</td>\n",
       "      <td>0.45</td>\n",
       "      <td>1</td>\n",
       "      <td>66</td>\n",
       "    </tr>\n",
       "    <tr>\n",
       "      <th>4</th>\n",
       "      <td>Atuona</td>\n",
       "      <td>PF</td>\n",
       "      <td>-9.8000</td>\n",
       "      <td>-139.0333</td>\n",
       "      <td>1637637765</td>\n",
       "      <td>298.46</td>\n",
       "      <td>3.65</td>\n",
       "      <td>100</td>\n",
       "      <td>76</td>\n",
       "    </tr>\n",
       "    <tr>\n",
       "      <th>...</th>\n",
       "      <td>...</td>\n",
       "      <td>...</td>\n",
       "      <td>...</td>\n",
       "      <td>...</td>\n",
       "      <td>...</td>\n",
       "      <td>...</td>\n",
       "      <td>...</td>\n",
       "      <td>...</td>\n",
       "      <td>...</td>\n",
       "    </tr>\n",
       "    <tr>\n",
       "      <th>573</th>\n",
       "      <td>Malartic</td>\n",
       "      <td>CA</td>\n",
       "      <td>48.1335</td>\n",
       "      <td>-78.1328</td>\n",
       "      <td>1637638702</td>\n",
       "      <td>263.21</td>\n",
       "      <td>3.43</td>\n",
       "      <td>98</td>\n",
       "      <td>91</td>\n",
       "    </tr>\n",
       "    <tr>\n",
       "      <th>574</th>\n",
       "      <td>Coalinga</td>\n",
       "      <td>US</td>\n",
       "      <td>36.1397</td>\n",
       "      <td>-120.3602</td>\n",
       "      <td>1637638870</td>\n",
       "      <td>287.61</td>\n",
       "      <td>0.08</td>\n",
       "      <td>50</td>\n",
       "      <td>34</td>\n",
       "    </tr>\n",
       "    <tr>\n",
       "      <th>575</th>\n",
       "      <td>Vilcún</td>\n",
       "      <td>CL</td>\n",
       "      <td>-38.6500</td>\n",
       "      <td>-72.2333</td>\n",
       "      <td>1637638872</td>\n",
       "      <td>282.56</td>\n",
       "      <td>1.00</td>\n",
       "      <td>0</td>\n",
       "      <td>89</td>\n",
       "    </tr>\n",
       "    <tr>\n",
       "      <th>576</th>\n",
       "      <td>Kewanee</td>\n",
       "      <td>US</td>\n",
       "      <td>41.2456</td>\n",
       "      <td>-89.9248</td>\n",
       "      <td>1637638873</td>\n",
       "      <td>270.78</td>\n",
       "      <td>2.00</td>\n",
       "      <td>7</td>\n",
       "      <td>37</td>\n",
       "    </tr>\n",
       "    <tr>\n",
       "      <th>577</th>\n",
       "      <td>Zenzeli</td>\n",
       "      <td>RU</td>\n",
       "      <td>45.9241</td>\n",
       "      <td>47.0474</td>\n",
       "      <td>1637638874</td>\n",
       "      <td>280.85</td>\n",
       "      <td>4.52</td>\n",
       "      <td>40</td>\n",
       "      <td>80</td>\n",
       "    </tr>\n",
       "  </tbody>\n",
       "</table>\n",
       "<p>578 rows × 9 columns</p>\n",
       "</div>"
      ],
      "text/plain": [
       "            City Country      Lat      Long        Date    Temp  Wind Spd  \\\n",
       "0          Kapaa      US  22.0752 -159.3190  1637637507  300.14      1.34   \n",
       "1          Pisco      PE -13.7000  -76.2167  1637637761  291.49      5.14   \n",
       "2    Tuktoyaktuk      CA  69.4541 -133.0374  1637637787  252.15      4.63   \n",
       "3    Grand Gaube      MU -20.0064   57.6608  1637637763  297.80      0.45   \n",
       "4         Atuona      PF  -9.8000 -139.0333  1637637765  298.46      3.65   \n",
       "..           ...     ...      ...       ...         ...     ...       ...   \n",
       "573     Malartic      CA  48.1335  -78.1328  1637638702  263.21      3.43   \n",
       "574     Coalinga      US  36.1397 -120.3602  1637638870  287.61      0.08   \n",
       "575       Vilcún      CL -38.6500  -72.2333  1637638872  282.56      1.00   \n",
       "576      Kewanee      US  41.2456  -89.9248  1637638873  270.78      2.00   \n",
       "577      Zenzeli      RU  45.9241   47.0474  1637638874  280.85      4.52   \n",
       "\n",
       "     Cloud Cvr  Humid  \n",
       "0           90     76  \n",
       "1           90     88  \n",
       "2           40     77  \n",
       "3            1     66  \n",
       "4          100     76  \n",
       "..         ...    ...  \n",
       "573         98     91  \n",
       "574         50     34  \n",
       "575          0     89  \n",
       "576          7     37  \n",
       "577         40     80  \n",
       "\n",
       "[578 rows x 9 columns]"
      ]
     },
     "execution_count": 67,
     "metadata": {},
     "output_type": "execute_result"
    }
   ],
   "source": [
    "weather_data_df.to_csv(\"weather_data.csv\")\n",
    "weather_data_df"
   ]
  },
  {
   "cell_type": "markdown",
   "metadata": {},
   "source": [
    "## Inspect the data and remove the cities where the humidity > 100%.\n",
    "----\n",
    "Skip this step if there are no cities that have humidity > 100%. "
   ]
  },
  {
   "cell_type": "code",
   "execution_count": 15,
   "metadata": {},
   "outputs": [
    {
     "data": {
      "text/plain": [
       "0"
      ]
     },
     "execution_count": 15,
     "metadata": {},
     "output_type": "execute_result"
    }
   ],
   "source": [
    "humidity_df = weather_data_df.loc[weather_data_df[\"Humid\"]>100]\n",
    "len(humidity_df)"
   ]
  },
  {
   "cell_type": "code",
   "execution_count": 1,
   "metadata": {},
   "outputs": [],
   "source": [
    "#  Get the indices of cities that have humidity over 100%.\n",
    "\n",
    "# No city with Humidity > 100%"
   ]
  },
  {
   "cell_type": "code",
   "execution_count": 2,
   "metadata": {},
   "outputs": [],
   "source": [
    "# Make a new DataFrame equal to the city data to drop all humidity outliers by index.\n",
    "# Passing \"inplace=False\" will make a copy of the city_data DataFrame, which we call \"clean_city_data\".\n",
    "\n",
    "# No city with Humidity > 100%"
   ]
  },
  {
   "cell_type": "markdown",
   "metadata": {},
   "source": [
    "## Plotting the Data\n",
    "* Use proper labeling of the plots using plot titles (including date of analysis) and axes labels.\n",
    "* Save the plotted figures as .pngs."
   ]
  },
  {
   "cell_type": "markdown",
   "metadata": {},
   "source": [
    "## Latitude vs. Temperature Plot"
   ]
  },
  {
   "cell_type": "code",
   "execution_count": 17,
   "metadata": {
    "scrolled": true
   },
   "outputs": [
    {
     "data": {
      "image/png": "[encoded data removed]",
      "text/plain": [
       "<Figure size 432x288 with 1 Axes>"
      ]
     },
     "metadata": {
      "needs_background": "light"
     },
     "output_type": "display_data"
    }
   ],
   "source": [
    "x_values = weather_data_df['Lat']\n",
    "y_values = weather_data_df['Temp']\n",
    "plt.scatter(x_values,y_values, color='green')\n",
    "plt.xlabel('Latitude')\n",
    "plt.ylabel('Temperature')\n",
    "plt.title('Latitude vs Temperature Plot')\n",
    "plt.show()"
   ]
  },
  {
   "cell_type": "markdown",
   "metadata": {},
   "source": [
    "## Latitude vs. Humidity Plot"
   ]
  },
  {
   "cell_type": "code",
   "execution_count": 27,
   "metadata": {},
   "outputs": [
    {
     "data": {
      "image/png": "[encoded data removed]",
      "text/plain": [
       "<Figure size 432x288 with 1 Axes>"
      ]
     },
     "metadata": {
      "needs_background": "light"
     },
     "output_type": "display_data"
    }
   ],
   "source": [
    "x_values = weather_data_df['Lat']\n",
    "y_values = weather_data_df['Humid']\n",
    "plt.scatter(x_values,y_values, color='blue')\n",
    "plt.xlabel('Latitude')\n",
    "plt.ylabel('Humidity')\n",
    "plt.title('Latitude vs Humidity Plot')\n",
    "plt.show()"
   ]
  },
  {
   "cell_type": "markdown",
   "metadata": {},
   "source": [
    "## Latitude vs. Cloudiness Plot"
   ]
  },
  {
   "cell_type": "code",
   "execution_count": 30,
   "metadata": {},
   "outputs": [
    {
     "data": {
      "image/png": "[encoded data removed]",
      "text/plain": [
       "<Figure size 432x288 with 1 Axes>"
      ]
     },
     "metadata": {
      "needs_background": "light"
     },
     "output_type": "display_data"
    }
   ],
   "source": [
    "x_values = weather_data_df['Lat']\n",
    "y_values = weather_data_df['Cloud Cvr']\n",
    "plt.scatter(x_values,y_values, color='red')\n",
    "plt.xlabel('Latitude')\n",
    "plt.ylabel('Cloudiness')\n",
    "plt.title('Latitude vs Cloud Cover Plot')\n",
    "plt.show()"
   ]
  },
  {
   "cell_type": "markdown",
   "metadata": {},
   "source": [
    "## Latitude vs. Wind Speed Plot"
   ]
  },
  {
   "cell_type": "code",
   "execution_count": 29,
   "metadata": {},
   "outputs": [
    {
     "data": {
      "image/png": "[encoded data removed]",
      "text/plain": [
       "<Figure size 432x288 with 1 Axes>"
      ]
     },
     "metadata": {
      "needs_background": "light"
     },
     "output_type": "display_data"
    }
   ],
   "source": [
    "x_values = weather_data_df['Lat']\n",
    "y_values = weather_data_df['Wind Spd']\n",
    "plt.scatter(x_values,y_values, color='purple')\n",
    "plt.xlabel('Latitude')\n",
    "plt.ylabel('Wind Speed')\n",
    "plt.title('Latitude vs Wind Speed Plot')\n",
    "plt.show()"
   ]
  },
  {
   "cell_type": "markdown",
   "metadata": {},
   "source": [
    "## Linear Regression"
   ]
  },
  {
   "cell_type": "markdown",
   "metadata": {},
   "source": [
    "####  Northern Hemisphere - Max Temp vs. Latitude Linear Regression"
   ]
  },
  {
   "cell_type": "code",
   "execution_count": 50,
   "metadata": {
    "scrolled": true
   },
   "outputs": [
    {
     "name": "stdout",
     "output_type": "stream",
     "text": [
      "0      291.617823\n",
      "2      258.708687\n",
      "5      258.757864\n",
      "7      291.051242\n",
      "8      255.893633\n",
      "          ...    \n",
      "572    289.088456\n",
      "573    273.517864\n",
      "574    281.848695\n",
      "576    278.302164\n",
      "577    275.052502\n",
      "Name: Lat, Length: 396, dtype: float64\n",
      "y = -0.69x +306.95\n"
     ]
    }
   ],
   "source": [
    "North_Hem_df = weather_data_df.loc[weather_data_df[\"Lat\"]>=0]\n",
    "North_Hem_df\n",
    "x_values = North_Hem_df['Lat']\n",
    "y_values = North_Hem_df['Temp']\n",
    "(slope, intercept, rvalue, pvalue, stderr) = linregress(x_values, y_values)\n",
    "regress_values = x_values * slope + intercept\n",
    "line_eq = \"y = \" + str(round(slope,2)) + \"x +\" + str(round(intercept,2))\n",
    "print(regress_values)\n",
    "print(line_eq)"
   ]
  },
  {
   "cell_type": "code",
   "execution_count": 51,
   "metadata": {},
   "outputs": [
    {
     "name": "stdout",
     "output_type": "stream",
     "text": [
      "r-value: 0.7531735236222282\n"
     ]
    },
    {
     "data": {
      "image/png": "[encoded data removed]",
      "text/plain": [
       "<Figure size 432x288 with 1 Axes>"
      ]
     },
     "metadata": {
      "needs_background": "light"
     },
     "output_type": "display_data"
    }
   ],
   "source": [
    "plt.scatter(x_values,y_values)\n",
    "plt.plot(x_values,regress_values,\"r-\")\n",
    "\n",
    "plt.xlabel('Latitude')\n",
    "plt.ylabel('Maximimum Temperature')\n",
    "\n",
    "print(f\"r-value: {rvalue**2}\")\n",
    "plt.annotate(\"y = -0.69x +306.95\",(-5,5),fontsize=20,color=\"green\")\n",
    "\n",
    "plt.show()"
   ]
  },
  {
   "cell_type": "markdown",
   "metadata": {},
   "source": [
    "####  Southern Hemisphere - Max Temp vs. Latitude Linear Regression"
   ]
  },
  {
   "cell_type": "code",
   "execution_count": 52,
   "metadata": {},
   "outputs": [
    {
     "name": "stdout",
     "output_type": "stream",
     "text": [
      "1      297.469894\n",
      "3      295.639654\n",
      "4      298.601750\n",
      "6      299.937079\n",
      "9      293.097244\n",
      "          ...    \n",
      "564    298.640698\n",
      "567    293.068222\n",
      "569    297.772274\n",
      "570    295.523072\n",
      "575    290.228917\n",
      "Name: Lat, Length: 182, dtype: float64\n",
      "y = 0.29x +301.45\n"
     ]
    }
   ],
   "source": [
    "South_Hem_df = weather_data_df.loc[weather_data_df[\"Lat\"]<=0]\n",
    "South_Hem_df\n",
    "x_values = South_Hem_df['Lat']\n",
    "y_values = South_Hem_df['Temp']\n",
    "(slope, intercept, rvalue, pvalue, stderr) = linregress(x_values, y_values)\n",
    "regress_values = x_values * slope + intercept\n",
    "line_eq = \"y = \" + str(round(slope,2)) + \"x +\" + str(round(intercept,2))\n",
    "print(regress_values)\n",
    "print(line_eq)"
   ]
  },
  {
   "cell_type": "code",
   "execution_count": 53,
   "metadata": {},
   "outputs": [
    {
     "name": "stdout",
     "output_type": "stream",
     "text": [
      "The r-value is: 0.344338223836828\n"
     ]
    },
    {
     "data": {
      "image/png": "[encoded data removed]",
      "text/plain": [
       "<Figure size 432x288 with 1 Axes>"
      ]
     },
     "metadata": {
      "needs_background": "light"
     },
     "output_type": "display_data"
    }
   ],
   "source": [
    "plt.scatter(x_values,y_values)\n",
    "plt.plot(x_values,regress_values,\"r-\")\n",
    "\n",
    "plt.xlabel('Latitude')\n",
    "plt.ylabel('Max Temperature')\n",
    "plt.annotate(line_eq,(20,15),fontsize=15,color=\"red\")\n",
    "plt.annotate(\"y = 0.29x +301.45\",(-5,5),fontsize=20,color=\"green\")\n",
    "print(f\"The r-value is: {rvalue**2}\")\n",
    "plt.show()"
   ]
  },
  {
   "cell_type": "markdown",
   "metadata": {},
   "source": [
    "####  Northern Hemisphere - Humidity (%) vs. Latitude Linear Regression"
   ]
  },
  {
   "cell_type": "code",
   "execution_count": 54,
   "metadata": {},
   "outputs": [
    {
     "name": "stdout",
     "output_type": "stream",
     "text": [
      "0      65.582718\n",
      "2      83.431746\n",
      "5      83.405074\n",
      "7      65.890016\n",
      "8      84.958555\n",
      "         ...    \n",
      "572    66.954578\n",
      "573    75.399648\n",
      "574    70.881230\n",
      "576    72.804773\n",
      "577    74.567301\n",
      "Name: Lat, Length: 396, dtype: float64\n",
      "y = 0.38x +57.27\n"
     ]
    }
   ],
   "source": [
    "x_values = North_Hem_df['Lat']\n",
    "y_values = North_Hem_df['Humid']\n",
    "(slope, intercept, rvalue, pvalue, stderr) =linregress(x_values, y_values)\n",
    "regress_values = x_values * slope + intercept\n",
    "line_eq = \"y = \" + str(round(slope,2)) + \"x +\" + str(round(intercept,2))\n",
    "print(regress_values)\n",
    "print(line_eq)"
   ]
  },
  {
   "cell_type": "code",
   "execution_count": 55,
   "metadata": {},
   "outputs": [
    {
     "name": "stdout",
     "output_type": "stream",
     "text": [
      "r-value: 0.13026250209088877\n"
     ]
    },
    {
     "data": {
      "image/png": "[encoded data removed]",
      "text/plain": [
       "<Figure size 432x288 with 1 Axes>"
      ]
     },
     "metadata": {
      "needs_background": "light"
     },
     "output_type": "display_data"
    }
   ],
   "source": [
    "plt.scatter(x_values,y_values)\n",
    "plt.plot(x_values,regress_values,\"r-\")\n",
    "\n",
    "plt.xlabel('Latitude')\n",
    "plt.ylabel('Humidity')\n",
    "\n",
    "print(f\"r-value: {rvalue**2}\")\n",
    "plt.annotate(\"y = 0.38x +57.27\",(-5,5),fontsize=20,color=\"green\")\n",
    "\n",
    "plt.show()"
   ]
  },
  {
   "cell_type": "markdown",
   "metadata": {},
   "source": [
    "####  Southern Hemisphere - Humidity (%) vs. Latitude Linear Regression"
   ]
  },
  {
   "cell_type": "code",
   "execution_count": 56,
   "metadata": {
    "scrolled": true
   },
   "outputs": [
    {
     "name": "stdout",
     "output_type": "stream",
     "text": [
      "1      75.507465\n",
      "3      73.543773\n",
      "4      76.721849\n",
      "6      78.154543\n",
      "9      70.815985\n",
      "         ...    \n",
      "564    76.763637\n",
      "567    70.784847\n",
      "569    75.831892\n",
      "570    73.418692\n",
      "575    67.738516\n",
      "Name: Lat, Length: 182, dtype: float64\n",
      "y = 0.31x +79.77\n"
     ]
    }
   ],
   "source": [
    "x_values = South_Hem_df['Lat']\n",
    "y_values = South_Hem_df['Humid']\n",
    "(slope, intercept, rvalue, pvalue, stderr) =linregress(x_values, y_values)\n",
    "regress_values = x_values * slope + intercept\n",
    "line_eq = \"y = \" + str(round(slope,2)) + \"x +\" + str(round(intercept,2))\n",
    "print(regress_values)\n",
    "print(line_eq)"
   ]
  },
  {
   "cell_type": "code",
   "execution_count": 57,
   "metadata": {},
   "outputs": [
    {
     "name": "stdout",
     "output_type": "stream",
     "text": [
      "r-value: 0.05779733327226094\n"
     ]
    },
    {
     "data": {
      "image/png": "[encoded data removed]",
      "text/plain": [
       "<Figure size 432x288 with 1 Axes>"
      ]
     },
     "metadata": {
      "needs_background": "light"
     },
     "output_type": "display_data"
    }
   ],
   "source": [
    "plt.scatter(x_values,y_values)\n",
    "plt.plot(x_values,regress_values,\"r-\")\n",
    "\n",
    "plt.xlabel('Latitude')\n",
    "plt.ylabel('Humidity')\n",
    "\n",
    "print(f\"r-value: {rvalue**2}\")\n",
    "plt.annotate(\"y = 0.31x +79.77\",(-5,5),fontsize=20,color=\"green\")\n",
    "\n",
    "plt.show()"
   ]
  },
  {
   "cell_type": "markdown",
   "metadata": {},
   "source": [
    "####  Northern Hemisphere - Cloudiness (%) vs. Latitude Linear Regression"
   ]
  },
  {
   "cell_type": "code",
   "execution_count": 58,
   "metadata": {
    "scrolled": true
   },
   "outputs": [
    {
     "name": "stdout",
     "output_type": "stream",
     "text": [
      "0      46.865911\n",
      "2      68.624938\n",
      "5      68.592423\n",
      "7      47.240526\n",
      "8      70.486209\n",
      "         ...    \n",
      "572    48.538290\n",
      "573    58.833332\n",
      "574    53.325112\n",
      "576    55.670025\n",
      "577    57.818653\n",
      "Name: Lat, Length: 396, dtype: float64\n",
      "y = 0.46x +36.73\n"
     ]
    }
   ],
   "source": [
    "x_values = North_Hem_df['Lat']\n",
    "y_values = North_Hem_df['Cloud Cvr']\n",
    "(slope, intercept, rvalue, pvalue, stderr) =linregress(x_values, y_values)\n",
    "regress_values = x_values * slope + intercept\n",
    "line_eq = \"y = \" + str(round(slope,2)) + \"x +\" + str(round(intercept,2))\n",
    "print(regress_values)\n",
    "print(line_eq)"
   ]
  },
  {
   "cell_type": "code",
   "execution_count": 59,
   "metadata": {},
   "outputs": [
    {
     "name": "stdout",
     "output_type": "stream",
     "text": [
      "r-value: 0.05093124875545503\n"
     ]
    },
    {
     "data": {
      "image/png": "[encoded data removed]",
      "text/plain": [
       "<Figure size 432x288 with 1 Axes>"
      ]
     },
     "metadata": {
      "needs_background": "light"
     },
     "output_type": "display_data"
    }
   ],
   "source": [
    "plt.scatter(x_values,y_values)\n",
    "plt.plot(x_values,regress_values,\"r-\")\n",
    "\n",
    "plt.xlabel('Latitude')\n",
    "plt.ylabel('Cloudiness')\n",
    "\n",
    "print(f\"r-value: {rvalue**2}\")\n",
    "plt.annotate(\"y = 0.46x +36.73\",(-5,5),fontsize=20,color=\"green\")\n",
    "\n",
    "plt.show()"
   ]
  },
  {
   "cell_type": "markdown",
   "metadata": {},
   "source": [
    "####  Southern Hemisphere - Cloudiness (%) vs. Latitude Linear Regression"
   ]
  },
  {
   "cell_type": "code",
   "execution_count": 60,
   "metadata": {
    "scrolled": true
   },
   "outputs": [
    {
     "name": "stdout",
     "output_type": "stream",
     "text": [
      "1      70.503574\n",
      "3      64.653416\n",
      "4      74.121424\n",
      "6      78.389653\n",
      "9      56.526889\n",
      "         ...    \n",
      "564    74.245916\n",
      "567    56.434123\n",
      "569    71.470096\n",
      "570    64.280778\n",
      "575    47.358606\n",
      "Name: Lat, Length: 182, dtype: float64\n",
      "y = 0.93x +83.21\n"
     ]
    }
   ],
   "source": [
    "x_values = South_Hem_df['Lat']\n",
    "y_values = South_Hem_df['Cloud Cvr']\n",
    "(slope, intercept, rvalue, pvalue, stderr) =linregress(x_values, y_values)\n",
    "regress_values = x_values * slope + intercept\n",
    "line_eq = \"y = \" + str(round(slope,2)) + \"x +\" + str(round(intercept,2))\n",
    "print(regress_values)\n",
    "print(line_eq)"
   ]
  },
  {
   "cell_type": "code",
   "execution_count": 61,
   "metadata": {},
   "outputs": [
    {
     "name": "stdout",
     "output_type": "stream",
     "text": [
      "r-value: 0.10989875647437129\n"
     ]
    },
    {
     "data": {
      "image/png": "[encoded data removed]",
      "text/plain": [
       "<Figure size 432x288 with 1 Axes>"
      ]
     },
     "metadata": {
      "needs_background": "light"
     },
     "output_type": "display_data"
    }
   ],
   "source": [
    "plt.scatter(x_values,y_values)\n",
    "plt.plot(x_values,regress_values,\"r-\")\n",
    "\n",
    "plt.xlabel('Latitude')\n",
    "plt.ylabel('Cloudiness')\n",
    "\n",
    "print(f\"r-value: {rvalue**2}\")\n",
    "plt.annotate(\"y = 0.93x +83.21\",(-5,5),fontsize=20,color=\"green\")\n",
    "\n",
    "plt.show()"
   ]
  },
  {
   "cell_type": "markdown",
   "metadata": {},
   "source": [
    "####  Northern Hemisphere - Wind Speed (mph) vs. Latitude Linear Regression"
   ]
  },
  {
   "cell_type": "code",
   "execution_count": 63,
   "metadata": {},
   "outputs": [
    {
     "name": "stdout",
     "output_type": "stream",
     "text": [
      "0      2.830348\n",
      "2      4.182549\n",
      "5      4.180528\n",
      "7      2.853628\n",
      "8      4.298216\n",
      "         ...   \n",
      "572    2.934276\n",
      "573    3.574055\n",
      "574    3.231750\n",
      "576    3.377474\n",
      "577    3.510999\n",
      "Name: Lat, Length: 396, dtype: float64\n",
      "y = 0.03x +2.2\n"
     ]
    }
   ],
   "source": [
    "x_values = North_Hem_df['Lat']\n",
    "y_values = North_Hem_df['Wind Spd']\n",
    "(slope, intercept, rvalue, pvalue, stderr) =linregress(x_values, y_values)\n",
    "regress_values = x_values * slope + intercept\n",
    "line_eq = \"y = \" + str(round(slope,2)) + \"x +\" + str(round(intercept,2))\n",
    "print(regress_values)\n",
    "print(line_eq)"
   ]
  },
  {
   "cell_type": "code",
   "execution_count": 64,
   "metadata": {},
   "outputs": [
    {
     "name": "stdout",
     "output_type": "stream",
     "text": [
      "r-value: 0.052513424844150586\n"
     ]
    },
    {
     "data": {
      "image/png": "[encoded data removed]",
      "text/plain": [
       "<Figure size 432x288 with 1 Axes>"
      ]
     },
     "metadata": {
      "needs_background": "light"
     },
     "output_type": "display_data"
    }
   ],
   "source": [
    "plt.scatter(x_values,y_values)\n",
    "plt.plot(x_values,regress_values,\"r-\")\n",
    "\n",
    "plt.xlabel('Latitude')\n",
    "plt.ylabel('Wind Speed(mph)')\n",
    "\n",
    "print(f\"r-value: {rvalue**2}\")\n",
    "plt.annotate(\"y = 0.03x +2.2\",(-5,5),fontsize=20,color=\"green\")\n",
    "\n",
    "plt.show()"
   ]
  },
  {
   "cell_type": "markdown",
   "metadata": {},
   "source": [
    "####  Southern Hemisphere - Wind Speed (mph) vs. Latitude Linear Regression"
   ]
  },
  {
   "cell_type": "code",
   "execution_count": 65,
   "metadata": {
    "scrolled": true
   },
   "outputs": [
    {
     "name": "stdout",
     "output_type": "stream",
     "text": [
      "1      2.720670\n",
      "3      3.031172\n",
      "4      2.528650\n",
      "6      2.302110\n",
      "9      3.462495\n",
      "         ...   \n",
      "564    2.522042\n",
      "567    3.467418\n",
      "569    2.669371\n",
      "570    3.050951\n",
      "575    3.949109\n",
      "Name: Lat, Length: 182, dtype: float64\n",
      "y = -0.05x +2.05\n"
     ]
    }
   ],
   "source": [
    "x_values = South_Hem_df['Lat']\n",
    "y_values = South_Hem_df['Wind Spd']\n",
    "(slope, intercept, rvalue, pvalue, stderr) =linregress(x_values, y_values)\n",
    "regress_values = x_values * slope + intercept\n",
    "line_eq = \"y = \" + str(round(slope,2)) + \"x +\" + str(round(intercept,2))\n",
    "print(regress_values)\n",
    "print(line_eq)"
   ]
  },
  {
   "cell_type": "code",
   "execution_count": 66,
   "metadata": {},
   "outputs": [
    {
     "name": "stdout",
     "output_type": "stream",
     "text": [
      "r-value: 0.0994512147586255\n"
     ]
    },
    {
     "data": {
      "image/png": "[encoded data removed]",
      "text/plain": [
       "<Figure size 432x288 with 1 Axes>"
      ]
     },
     "metadata": {
      "needs_background": "light"
     },
     "output_type": "display_data"
    }
   ],
   "source": [
    "plt.scatter(x_values,y_values)\n",
    "plt.plot(x_values,regress_values,\"r-\")\n",
    "\n",
    "plt.xlabel('Latitude')\n",
    "plt.ylabel('Wind Speed(mph)')\n",
    "\n",
    "print(f\"r-value: {rvalue**2}\")\n",
    "plt.annotate(\"y = -0.05x +2.05\",(-5,5),fontsize=20,color=\"green\")\n",
    "\n",
    "plt.show()"
   ]
  },
  {
   "cell_type": "code",
   "execution_count": null,
   "metadata": {},
   "outputs": [],
   "source": []
  }
 ],
 "metadata": {
  "anaconda-cloud": {},
  "kernel_info": {
   "name": "python3"
  },
  "kernelspec": {
   "display_name": "Python 3",
   "language": "python",
   "name": "python3"
  },
  "language_info": {
   "codemirror_mode": {
    "name": "ipython",
    "version": 3
   },
   "file_extension": ".py",
   "mimetype": "text/x-python",
   "name": "python",
   "nbconvert_exporter": "python",
   "pygments_lexer": "ipython3",
   "version": "3.8.8"
  },
  "latex_envs": {
   "LaTeX_envs_menu_present": true,
   "autoclose": false,
   "autocomplete": true,
   "bibliofile": "biblio.bib",
   "cite_by": "apalike",
   "current_citInitial": 1,
   "eqLabelWithNumbers": true,
   "eqNumInitial": 1,
   "hotkeys": {
    "equation": "Ctrl-E",
    "itemize": "Ctrl-I"
   },
   "labels_anchors": false,
   "latex_user_defs": false,
   "report_style_numbering": false,
   "user_envs_cfg": false
  },
  "nteract": {
   "version": "0.12.3"
  }
 },
 "nbformat": 4,
 "nbformat_minor": 2
}
